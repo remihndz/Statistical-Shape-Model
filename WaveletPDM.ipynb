{
 "cells": [
  {
   "cell_type": "markdown",
   "metadata": {},
   "source": [
    "# Create a statistical shape model based on wavelet transform and PCA.\n",
    "The original paper is [here](https://ieeexplore.ieee.org/document/1199642)"
   ]
  },
  {
   "cell_type": "code",
   "execution_count": 2,
   "metadata": {},
   "outputs": [],
   "source": [
    "import numpy as np\n",
    "import pandas as pd\n",
    "import seaborn as sns\n",
    "import matplotlib.pyplot as plt\n",
    "from pywt import WaveletPacket"
   ]
  },
  {
   "cell_type": "markdown",
   "metadata": {},
   "source": [
    "## Load the data in the shape space.\n",
    "TODO: \n",
    "* create a transformation between shape space and image space."
   ]
  },
  {
   "cell_type": "code",
   "execution_count": 3,
   "metadata": {},
   "outputs": [
    {
     "name": "stdout",
     "output_type": "stream",
     "text": [
      "N=12, K=18\n"
     ]
    },
    {
     "data": {
      "image/png": "[encoded data removed]",
      "text/plain": [
       "<Figure size 432x288 with 1 Axes>"
      ]
     },
     "metadata": {
      "needs_background": "light"
     },
     "output_type": "display_data"
    }
   ],
   "source": [
    "df = pd.read_csv('Landmarks_Aligned.csv', index_col=(0,1))\n",
    "N = df.index.get_level_values('Shape').max()\n",
    "K = df.index.get_level_values('Landmark').max()\n",
    "\n",
    "fig, ax = plt.subplots()\n",
    "for i in range(1,N):\n",
    "    sns.scatterplot(data=df.loc[df.index.get_level_values('Shape')==i], x='X', y='Y', ax=ax)\n",
    "\n",
    "print(f'{N=}, {K=}')"
   ]
  },
  {
   "cell_type": "markdown",
   "metadata": {},
   "source": [
    "## Initiate the algorithm\n",
    "Each of the $N$ elements of the list is a shape, defined by $K$ landmark points.\n",
    "$U_n$ is the list of $x$ coordinates of the landmarks, $V_n$ is the list of $y$ coordinates of the landmarks. "
   ]
  },
  {
   "cell_type": "code",
   "execution_count": 4,
   "metadata": {},
   "outputs": [
    {
     "name": "stdout",
     "output_type": "stream",
     "text": [
      "Un.shape=(18, 12), Vn.shape=(18, 12)\n"
     ]
    }
   ],
   "source": [
    "# Separate the data into x and y coordinates\n",
    "Un, Vn = np.zeros((K,N)), np.zeros((K,N))\n",
    "for iShape in range(1,N+1):\n",
    "    un = df.loc[df.index.get_level_values('Shape')==iShape].X.to_numpy()\n",
    "    vn = df.loc[df.index.get_level_values('Shape')==iShape].Y.to_numpy()\n",
    "    Un[:,iShape-1] = un\n",
    "    Vn[:,iShape-1] = vn\n",
    "\n",
    "print(f'{Un.shape=}, {Vn.shape=}')"
   ]
  },
  {
   "cell_type": "markdown",
   "metadata": {},
   "source": [
    "Choose a wavelet packet and decompose the signal in $B=2^P$ bands. Each columns of $U_n$ and $V_n$ corresponds to a shape, hence $axis=0$."
   ]
  },
  {
   "cell_type": "code",
   "execution_count": 50,
   "metadata": {},
   "outputs": [],
   "source": [
    "P = 3 # The level of decomposition\n",
    "UnWP = WaveletPacket(data=Un, wavelet='db1', mode='symmetric', axis=0, maxlevel=P)\n",
    "VnWP = WaveletPacket(data=Vn, wavelet='db1', mode='symmetric', axis=0, maxlevel=P)"
   ]
  },
  {
   "cell_type": "code",
   "execution_count": 51,
   "metadata": {},
   "outputs": [
    {
     "name": "stdout",
     "output_type": "stream",
     "text": [
      "For level 1, the nodes path are ['a', 'd']\n",
      "For level 2, the nodes path are ['aa', 'ad', 'dd', 'da']\n",
      "For level 3, the nodes path are ['aaa', 'aad', 'add', 'ada', 'dda', 'ddd', 'dad', 'daa']\n"
     ]
    }
   ],
   "source": [
    "for i in range(1,1+P):\n",
    "    nodes = [node.path for node in UnWP.get_level(i, 'freq')]\n",
    "    print(f'For level {i}, the nodes path are {nodes}')"
   ]
  },
  {
   "cell_type": "code",
   "execution_count": 52,
   "metadata": {},
   "outputs": [
    {
     "name": "stdout",
     "output_type": "stream",
     "text": [
      "Level 1: a, d.\n",
      "Level 2: aa, ad.\n",
      "Level 3: aaa, aad.\n",
      "[ 0.0036875  -0.04097021 -0.05018221 -0.03558316  0.24060938 -0.07445845\n",
      " -0.02681974 -0.04318921  0.10536621]\n"
     ]
    }
   ],
   "source": [
    "node = ''\n",
    "for i in range(1,1+P):\n",
    "    nodeA = node + 'a'\n",
    "    nodeD = node + 'd'\n",
    "    print(f'Level {i}: {nodeA}, {nodeD}.')\n",
    "    node = nodeA\n",
    "print(UnWP['d'].data[:,2])"
   ]
  },
  {
   "cell_type": "code",
   "execution_count": 58,
   "metadata": {},
   "outputs": [
    {
     "name": "stdout",
     "output_type": "stream",
     "text": [
      "aa [0.05116074 0.96677115 0.4554387  1.10671812 1.27840592]\n",
      "dd [ 0.02928303 -0.00820255  0.46264306  0.00996753  0.        ]\n"
     ]
    }
   ],
   "source": [
    "def format_array(a):\n",
    "\n",
    "    \"\"\"Consistent array representation across different systems\"\"\"\n",
    "\n",
    "    import numpy\n",
    "\n",
    "    a = numpy.where(numpy.abs(a) < 1e-5, 0, a)\n",
    "\n",
    "    return numpy.array2string(a, precision=8, separator=' ', suppress_small=True)\n",
    "\n",
    "del UnWP['da']\n",
    "del UnWP['ad']\n",
    "\n",
    "for n in UnWP.get_leaf_nodes(False):\n",
    "    print(n.path, format_array(n.data[:,0]))"
   ]
  }
 ],
 "metadata": {
  "kernelspec": {
   "display_name": "Python 3.8.13 ('base')",
   "language": "python",
   "name": "python3"
  },
  "language_info": {
   "codemirror_mode": {
    "name": "ipython",
    "version": 3
   },
   "file_extension": ".py",
   "mimetype": "text/x-python",
   "name": "python",
   "nbconvert_exporter": "python",
   "pygments_lexer": "ipython3",
   "version": "3.8.13"
  },
  "orig_nbformat": 4,
  "vscode": {
   "interpreter": {
    "hash": "57bcab47fba392aaf2481e270a6c32db0c9d247c375febbd49c7b44fb61a4644"
   }
  }
 },
 "nbformat": 4,
 "nbformat_minor": 2
}
