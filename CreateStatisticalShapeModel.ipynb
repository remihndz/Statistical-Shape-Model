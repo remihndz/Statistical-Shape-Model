{
 "cells": [
  {
   "cell_type": "code",
   "execution_count": 18,
   "metadata": {},
   "outputs": [],
   "source": [
    "import matplotlib.pyplot as plt\n",
    "import numpy as np\n",
    "import seaborn as sns\n",
    "import pandas as pd\n",
    "from sklearn.decomposition import PCA\n",
    "from numpy.linalg import eig\n",
    "import os\n",
    "from GeneralizedProcrustes import GeneralizedProcrustes"
   ]
  },
  {
   "cell_type": "code",
   "execution_count": 19,
   "metadata": {},
   "outputs": [],
   "source": [
    "df = pd.DataFrame([], columns=['Patient','Landmark','X','Y'])\n",
    "fileCount = 0\n",
    "for file in os.listdir('Data'):\n",
    "    data = np.loadtxt('Data/'+file, delimiter=',', skiprows=1)\n",
    "    tmp = pd.DataFrame(data, columns=['Landmark', 'X', 'Y'])\n",
    "    tmp['Patient'] = file\n",
    "    df = pd.concat((df,tmp))\n",
    "    fileCount +=1\n",
    "  \n",
    "df.to_csv('Landmark.csv')"
   ]
  },
  {
   "cell_type": "code",
   "execution_count": 20,
   "metadata": {},
   "outputs": [
    {
     "name": "stdout",
     "output_type": "stream",
     "text": [
      "Distance between mean shape and reference shape dist=2.9004061809556.\n",
      "Distance between mean shape and reference shape dist=0.8850038288034967.\n",
      "Distance between mean shape and reference shape dist=0.8850038288034967.\n",
      "Distance between mean shape and reference shape dist=0.8850038288034967.\n",
      "Distance between mean shape and reference shape dist=0.8850038288034966.\n"
     ]
    }
   ],
   "source": [
    "shapeList = []\n",
    "for patient in np.unique(df.Patient.values):\n",
    "    shape = df.loc[df.Patient==patient, ['X','Y']].to_numpy()\n",
    "    shapeList.append(shape)\n",
    "\n",
    "newShapes = GeneralizedProcrustes(shapeList, maxIter=5)"
   ]
  },
  {
   "cell_type": "code",
   "execution_count": 21,
   "metadata": {},
   "outputs": [
    {
     "data": {
      "text/html": [
       "<div>\n",
       "<style scoped>\n",
       "    .dataframe tbody tr th:only-of-type {\n",
       "        vertical-align: middle;\n",
       "    }\n",
       "\n",
       "    .dataframe tbody tr th {\n",
       "        vertical-align: top;\n",
       "    }\n",
       "\n",
       "    .dataframe thead th {\n",
       "        text-align: right;\n",
       "    }\n",
       "</style>\n",
       "<table border=\"1\" class=\"dataframe\">\n",
       "  <thead>\n",
       "    <tr style=\"text-align: right;\">\n",
       "      <th></th>\n",
       "      <th></th>\n",
       "      <th>X</th>\n",
       "      <th>Y</th>\n",
       "    </tr>\n",
       "    <tr>\n",
       "      <th>Shape</th>\n",
       "      <th>Landmark</th>\n",
       "      <th></th>\n",
       "      <th></th>\n",
       "    </tr>\n",
       "  </thead>\n",
       "  <tbody>\n",
       "    <tr>\n",
       "      <th rowspan=\"5\" valign=\"top\">1</th>\n",
       "      <th>1</th>\n",
       "      <td>-0.052745</td>\n",
       "      <td>0.340972</td>\n",
       "    </tr>\n",
       "    <tr>\n",
       "      <th>2</th>\n",
       "      <td>-0.033538</td>\n",
       "      <td>0.275876</td>\n",
       "    </tr>\n",
       "    <tr>\n",
       "      <th>3</th>\n",
       "      <td>0.055416</td>\n",
       "      <td>0.131399</td>\n",
       "    </tr>\n",
       "    <tr>\n",
       "      <th>4</th>\n",
       "      <td>0.133189</td>\n",
       "      <td>0.024022</td>\n",
       "    </tr>\n",
       "    <tr>\n",
       "      <th>5</th>\n",
       "      <td>0.283922</td>\n",
       "      <td>-0.051963</td>\n",
       "    </tr>\n",
       "    <tr>\n",
       "      <th>...</th>\n",
       "      <th>...</th>\n",
       "      <td>...</td>\n",
       "      <td>...</td>\n",
       "    </tr>\n",
       "    <tr>\n",
       "      <th rowspan=\"5\" valign=\"top\">12</th>\n",
       "      <th>14</th>\n",
       "      <td>0.014537</td>\n",
       "      <td>0.174437</td>\n",
       "    </tr>\n",
       "    <tr>\n",
       "      <th>15</th>\n",
       "      <td>0.094401</td>\n",
       "      <td>0.190778</td>\n",
       "    </tr>\n",
       "    <tr>\n",
       "      <th>16</th>\n",
       "      <td>0.149881</td>\n",
       "      <td>0.23532</td>\n",
       "    </tr>\n",
       "    <tr>\n",
       "      <th>17</th>\n",
       "      <td>0.229915</td>\n",
       "      <td>0.212432</td>\n",
       "    </tr>\n",
       "    <tr>\n",
       "      <th>18</th>\n",
       "      <td>0.077364</td>\n",
       "      <td>-0.009849</td>\n",
       "    </tr>\n",
       "  </tbody>\n",
       "</table>\n",
       "<p>216 rows × 2 columns</p>\n",
       "</div>"
      ],
      "text/plain": [
       "                       X         Y\n",
       "Shape Landmark                    \n",
       "1     1        -0.052745  0.340972\n",
       "      2        -0.033538  0.275876\n",
       "      3         0.055416  0.131399\n",
       "      4         0.133189  0.024022\n",
       "      5         0.283922 -0.051963\n",
       "...                  ...       ...\n",
       "12    14        0.014537  0.174437\n",
       "      15        0.094401  0.190778\n",
       "      16        0.149881   0.23532\n",
       "      17        0.229915  0.212432\n",
       "      18        0.077364 -0.009849\n",
       "\n",
       "[216 rows x 2 columns]"
      ]
     },
     "execution_count": 21,
     "metadata": {},
     "output_type": "execute_result"
    }
   ],
   "source": [
    "df = pd.DataFrame([], columns=['Shape', 'Landmark', 'X', 'Y'])\n",
    "for i, shape in enumerate(newShapes):\n",
    "    tmp = pd.DataFrame(np.zeros((shape.shape[0],4)), columns=['Shape', 'Landmark', 'X', 'Y'])\n",
    "    tmp['X'] = shape[:,0]\n",
    "    tmp['Y'] = shape[:,1]\n",
    "    tmp.Shape = i+1\n",
    "    tmp.Landmark = np.arange(1, shape.shape[0]+1)\n",
    "    df = pd.concat((df, tmp))\n",
    "df = df.set_index(['Shape', 'Landmark'])\n",
    "df.to_csv('Landmarks_Aligned.csv')\n",
    "df"
   ]
  },
  {
   "cell_type": "code",
   "execution_count": 22,
   "metadata": {},
   "outputs": [],
   "source": [
    "df = pd.read_csv('Landmarks_Aligned.csv', index_col=(0))\n",
    "shapes = df.index.drop_duplicates()\n",
    "n = shapes.size\n",
    "data = np.zeros((2*18, n))\n",
    "for i, shape in enumerate(shapes):\n",
    "    landmarks = df.loc[shape].values[:,1:].ravel().T\n",
    "    data[:,i] = landmarks   "
   ]
  },
  {
   "cell_type": "code",
   "execution_count": 26,
   "metadata": {},
   "outputs": [
    {
     "data": {
      "text/plain": [
       "(12, 12)"
      ]
     },
     "execution_count": 26,
     "metadata": {},
     "output_type": "execute_result"
    }
   ],
   "source": [
    "pca = PCA(whiten=True)\n",
    "pca.fit(data)\n",
    "cov = pca.get_covariance()\n",
    "eigva, eigve = eig(cov)"
   ]
  }
 ],
 "metadata": {
  "kernelspec": {
   "display_name": "Python 3.8.13 ('base')",
   "language": "python",
   "name": "python3"
  },
  "language_info": {
   "codemirror_mode": {
    "name": "ipython",
    "version": 3
   },
   "file_extension": ".py",
   "mimetype": "text/x-python",
   "name": "python",
   "nbconvert_exporter": "python",
   "pygments_lexer": "ipython3",
   "version": "3.8.13"
  },
  "orig_nbformat": 4,
  "vscode": {
   "interpreter": {
    "hash": "57bcab47fba392aaf2481e270a6c32db0c9d247c375febbd49c7b44fb61a4644"
   }
  }
 },
 "nbformat": 4,
 "nbformat_minor": 2
}
